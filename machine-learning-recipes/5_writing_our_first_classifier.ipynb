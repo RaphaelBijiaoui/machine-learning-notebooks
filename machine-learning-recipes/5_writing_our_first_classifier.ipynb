{
 "cells": [
  {
   "cell_type": "code",
   "execution_count": 1,
   "metadata": {
    "collapsed": false
   },
   "outputs": [],
   "source": [
    "from sklearn import datasets\n",
    "from sklearn.metrics import accuracy_score\n",
    "from sklearn.model_selection import train_test_split"
   ]
  },
  {
   "cell_type": "code",
   "execution_count": 2,
   "metadata": {
    "collapsed": false
   },
   "outputs": [],
   "source": [
    "iris = datasets.load_iris()\n",
    "\n",
    "data = iris.data\n",
    "target = iris.target\n",
    "\n",
    "train_data, test_data, train_target, test_target = train_test_split(data, target, test_size=.5)"
   ]
  },
  {
   "cell_type": "code",
   "execution_count": 3,
   "metadata": {
    "collapsed": false
   },
   "outputs": [
    {
     "name": "stdout",
     "output_type": "stream",
     "text": [
      "[[ 5.4  3.   4.5  1.5]\n",
      " [ 6.3  2.5  5.   1.9]\n",
      " [ 6.3  3.3  6.   2.5]\n",
      " [ 5.1  3.8  1.6  0.2]\n",
      " [ 4.8  3.1  1.6  0.2]\n",
      " [ 5.7  3.   4.2  1.2]\n",
      " [ 6.8  2.8  4.8  1.4]\n",
      " [ 6.7  3.   5.   1.7]\n",
      " [ 4.9  3.   1.4  0.2]\n",
      " [ 5.6  2.9  3.6  1.3]\n",
      " [ 4.9  3.1  1.5  0.1]\n",
      " [ 6.5  2.8  4.6  1.5]\n",
      " [ 5.   3.   1.6  0.2]\n",
      " [ 4.4  3.2  1.3  0.2]\n",
      " [ 7.2  3.2  6.   1.8]\n",
      " [ 5.6  2.5  3.9  1.1]\n",
      " [ 5.1  3.8  1.9  0.4]\n",
      " [ 6.   2.7  5.1  1.6]\n",
      " [ 6.4  3.2  4.5  1.5]\n",
      " [ 5.1  3.3  1.7  0.5]\n",
      " [ 5.8  2.8  5.1  2.4]\n",
      " [ 6.7  2.5  5.8  1.8]\n",
      " [ 6.   2.9  4.5  1.5]\n",
      " [ 5.7  2.8  4.1  1.3]\n",
      " [ 4.9  2.5  4.5  1.7]\n",
      " [ 5.1  3.4  1.5  0.2]\n",
      " [ 5.7  4.4  1.5  0.4]\n",
      " [ 5.7  2.6  3.5  1. ]\n",
      " [ 4.9  3.1  1.5  0.1]\n",
      " [ 6.7  3.3  5.7  2.1]\n",
      " [ 7.7  2.6  6.9  2.3]\n",
      " [ 5.8  4.   1.2  0.2]\n",
      " [ 6.8  3.2  5.9  2.3]\n",
      " [ 6.4  2.9  4.3  1.3]\n",
      " [ 6.   2.2  5.   1.5]\n",
      " [ 5.7  2.9  4.2  1.3]\n",
      " [ 6.3  2.5  4.9  1.5]\n",
      " [ 4.8  3.   1.4  0.3]\n",
      " [ 6.3  2.3  4.4  1.3]\n",
      " [ 5.4  3.7  1.5  0.2]\n",
      " [ 6.5  3.2  5.1  2. ]\n",
      " [ 5.   3.4  1.5  0.2]\n",
      " [ 6.4  3.2  5.3  2.3]\n",
      " [ 5.9  3.   4.2  1.5]\n",
      " [ 5.6  2.7  4.2  1.3]\n",
      " [ 6.6  3.   4.4  1.4]\n",
      " [ 7.6  3.   6.6  2.1]\n",
      " [ 5.4  3.9  1.7  0.4]\n",
      " [ 6.2  2.2  4.5  1.5]\n",
      " [ 6.7  3.1  5.6  2.4]\n",
      " [ 6.4  2.8  5.6  2.2]\n",
      " [ 5.9  3.   5.1  1.8]\n",
      " [ 5.1  2.5  3.   1.1]\n",
      " [ 4.5  2.3  1.3  0.3]\n",
      " [ 5.5  2.4  3.7  1. ]\n",
      " [ 4.6  3.4  1.4  0.3]\n",
      " [ 6.2  2.8  4.8  1.8]\n",
      " [ 5.8  2.7  4.1  1. ]\n",
      " [ 4.6  3.1  1.5  0.2]\n",
      " [ 5.6  3.   4.5  1.5]\n",
      " [ 6.7  3.   5.2  2.3]\n",
      " [ 5.2  2.7  3.9  1.4]\n",
      " [ 6.7  3.1  4.4  1.4]\n",
      " [ 6.3  3.3  4.7  1.6]\n",
      " [ 6.9  3.1  5.1  2.3]\n",
      " [ 4.6  3.6  1.   0.2]\n",
      " [ 5.   3.4  1.6  0.4]\n",
      " [ 6.9  3.2  5.7  2.3]\n",
      " [ 6.5  3.   5.2  2. ]\n",
      " [ 5.   2.3  3.3  1. ]\n",
      " [ 5.8  2.7  3.9  1.2]\n",
      " [ 6.5  3.   5.8  2.2]\n",
      " [ 6.3  2.9  5.6  1.8]\n",
      " [ 5.1  3.8  1.5  0.3]\n",
      " [ 5.1  3.7  1.5  0.4]]\n"
     ]
    }
   ],
   "source": [
    "print(test_data)"
   ]
  },
  {
   "cell_type": "code",
   "execution_count": 4,
   "metadata": {
    "collapsed": false
   },
   "outputs": [
    {
     "data": {
      "text/plain": [
       "0.94666666666666666"
      ]
     },
     "execution_count": 4,
     "metadata": {},
     "output_type": "execute_result"
    }
   ],
   "source": [
    "from sklearn.neighbors import KNeighborsClassifier\n",
    "model = KNeighborsClassifier()\n",
    "\n",
    "model.fit(train_data, train_target)\n",
    "prediction = model.predict(test_data)\n",
    "accuracy_score(test_target, prediction)"
   ]
  },
  {
   "cell_type": "code",
   "execution_count": 5,
   "metadata": {
    "collapsed": false
   },
   "outputs": [
    {
     "data": {
      "text/plain": [
       "0.95999999999999996"
      ]
     },
     "execution_count": 5,
     "metadata": {},
     "output_type": "execute_result"
    }
   ],
   "source": [
    "from scipy.spatial.distance import euclidean\n",
    "\n",
    "class ScrappyKNN(object):\n",
    "\n",
    "    def _get_nearest(self, point, k=1):\n",
    "        best_d = euclidean(point, self.train_data[0])\n",
    "        best_i = 0\n",
    "        for i, train_point in enumerate(self.train_data):\n",
    "            d = euclidean(point, train_point)\n",
    "            if d < best_d:\n",
    "                best_d = d\n",
    "                best_i = i\n",
    "        \n",
    "        return train_target[best_i]\n",
    "    \n",
    "    def fit(self, train_data, train_target):\n",
    "        self.train_data = train_data\n",
    "        self.train_target = train_target\n",
    "    \n",
    "    def predict(self, test_data):\n",
    "        prediction = []\n",
    "        for point in test_data:\n",
    "            label = self._get_nearest(point)\n",
    "            prediction.append(label)\n",
    "\n",
    "        return prediction\n",
    "\n",
    "model = ScrappyKNN()\n",
    "model.fit(train_data, train_target)\n",
    "prediction = model.predict(test_data)\n",
    "accuracy_score(test_target, prediction)"
   ]
  }
 ],
 "metadata": {
  "kernelspec": {
   "display_name": "Python 2",
   "language": "python",
   "name": "python2"
  },
  "language_info": {
   "codemirror_mode": {
    "name": "ipython",
    "version": 2
   },
   "file_extension": ".py",
   "mimetype": "text/x-python",
   "name": "python",
   "nbconvert_exporter": "python",
   "pygments_lexer": "ipython2",
   "version": "2.7.10"
  }
 },
 "nbformat": 4,
 "nbformat_minor": 1
}
